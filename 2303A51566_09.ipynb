{
  "nbformat": 4,
  "nbformat_minor": 0,
  "metadata": {
    "colab": {
      "provenance": [],
      "include_colab_link": true
    },
    "kernelspec": {
      "name": "python3",
      "display_name": "Python 3"
    },
    "language_info": {
      "name": "python"
    }
  },
  "cells": [
    {
      "cell_type": "markdown",
      "metadata": {
        "id": "view-in-github",
        "colab_type": "text"
      },
      "source": [
        "<a href=\"https://colab.research.google.com/github/Srinidhireddy25/AIML-2025/blob/main/2303A51566_09.ipynb\" target=\"_parent\"><img src=\"https://colab.research.google.com/assets/colab-badge.svg\" alt=\"Open In Colab\"/></a>"
      ]
    },
    {
      "cell_type": "markdown",
      "source": [
        "Assessing Mathematical Learning in Higher Education\n",
        "\n",
        "\n",
        " Q1: Identify the Math topic which is most hard to learn?\n",
        "\n",
        " Q2: List the top5 math sub-topics for the students?\n",
        "\n",
        " Q3. Identify the questions level most solved by the students?\n",
        "\n",
        "  Q4: Name the country with most solved math problems?\n",
        "  \n",
        "  Q5: List top 10 keywords related to math topics most searched for?"
      ],
      "metadata": {
        "id": "S3lR_n_m-Zwz"
      }
    },
    {
      "cell_type": "code",
      "execution_count": null,
      "metadata": {
        "colab": {
          "base_uri": "https://localhost:8080/"
        },
        "id": "-tcY3DtJ3P-0",
        "outputId": "3766506e-e517-4c86-d380-6f3cd9e0976f"
      },
      "outputs": [
        {
          "output_type": "stream",
          "name": "stdout",
          "text": [
            "Drive already mounted at /content/drive; to attempt to forcibly remount, call drive.mount(\"/content/drive\", force_remount=True).\n"
          ]
        }
      ],
      "source": [
        "from google.colab import drive\n",
        "drive.mount('/content/drive')"
      ]
    },
    {
      "cell_type": "markdown",
      "source": [
        "**Load the Dataset**"
      ],
      "metadata": {
        "id": "QknXmyFR3hgI"
      }
    },
    {
      "cell_type": "markdown",
      "source": [],
      "metadata": {
        "id": "S_gaB4RKAkIT"
      }
    },
    {
      "cell_type": "code",
      "source": [
        "import pandas as pd\n",
        "\n",
        "file_path_mat = '/content/drive/MyDrive/aiml lab exam/student-mat.csv'\n",
        "file_path_por = '/content/drive/MyDrive/aiml lab exam/student-por.csv'\n",
        "\n",
        "d1 = pd.read_csv(file_path_mat, sep=\";\")\n",
        "d2 = pd.read_csv(file_path_por, sep=\";\")\n",
        "\n",
        "d3 = pd.merge(d1, d2, on=[\"school\", \"sex\", \"age\", \"address\", \"famsize\", \"Pstatus\", \"Medu\", \"Fedu\",\n",
        "                          \"Mjob\", \"Fjob\", \"reason\", \"nursery\", \"internet\"])\n",
        "\n",
        "print(\"Number of students in the merged dataset:\", d3.shape[0])"
      ],
      "metadata": {
        "colab": {
          "base_uri": "https://localhost:8080/"
        },
        "id": "0QJDVnEK3lbv",
        "outputId": "a5bd3387-959c-457d-c67b-e883b1d855ef"
      },
      "execution_count": null,
      "outputs": [
        {
          "output_type": "stream",
          "name": "stdout",
          "text": [
            "Number of students in the merged dataset: 382\n"
          ]
        }
      ]
    },
    {
      "cell_type": "markdown",
      "source": [
        "**1 Identify the Top 5 Reasons for Low Performance**"
      ],
      "metadata": {
        "id": "nnWu-ug83t4N"
      }
    },
    {
      "cell_type": "code",
      "source": [
        "low_performance = d3[d3['G3_x'] <= 10]\n",
        "\n",
        "correlations = low_performance.corr(numeric_only=True)['G3_x'].sort_values()\n",
        "top_5_reasons = correlations.head(5)\n",
        "\n",
        "print(\"Top 5 reasons for low performance:\")\n",
        "print(top_5_reasons)"
      ],
      "metadata": {
        "colab": {
          "base_uri": "https://localhost:8080/"
        },
        "id": "QRZL7aSF33Ag",
        "outputId": "9cc5bf84-11ed-4994-c084-967d7a68464a"
      },
      "execution_count": null,
      "outputs": [
        {
          "output_type": "stream",
          "name": "stdout",
          "text": [
            "Top 5 reasons for low performance:\n",
            "failures_x   -0.211138\n",
            "absences_y   -0.128092\n",
            "failures_y   -0.117119\n",
            "age          -0.085657\n",
            "health_x     -0.043318\n",
            "Name: G3_x, dtype: float64\n"
          ]
        }
      ]
    },
    {
      "cell_type": "markdown",
      "source": [
        "**2 Count Students with Both Parents Employed**"
      ],
      "metadata": {
        "id": "uxWyJ5X035Ib"
      }
    },
    {
      "cell_type": "code",
      "source": [
        "both_employed = d3[(d3['Mjob'] != 'at_home') & (d3['Fjob'] != 'at_home')]\n",
        "print(\"Number of students with both parents employed:\", len(both_employed))"
      ],
      "metadata": {
        "colab": {
          "base_uri": "https://localhost:8080/"
        },
        "id": "xR5-bvyc38pf",
        "outputId": "2791ca7b-8f56-47e1-95a6-f8dfb0387358"
      },
      "execution_count": null,
      "outputs": [
        {
          "output_type": "stream",
          "name": "stdout",
          "text": [
            "Number of students with both parents employed: 320\n"
          ]
        }
      ]
    },
    {
      "cell_type": "markdown",
      "source": [
        "**3 Find Maximum and Minimum Age**"
      ],
      "metadata": {
        "id": "jujq3yLA3_e0"
      }
    },
    {
      "cell_type": "code",
      "source": [
        "max_age = d3['age'].max()\n",
        "min_age = d3['age'].min()\n",
        "print(\"Maximum age:\", max_age)\n",
        "print(\"Minimum age:\", min_age)"
      ],
      "metadata": {
        "colab": {
          "base_uri": "https://localhost:8080/"
        },
        "id": "BHcDFSH83-1Z",
        "outputId": "797d6e37-fb9a-4d6e-b6a4-28bbac0d5a37"
      },
      "execution_count": null,
      "outputs": [
        {
          "output_type": "stream",
          "name": "stdout",
          "text": [
            "Maximum age: 22\n",
            "Minimum age: 15\n"
          ]
        }
      ]
    },
    {
      "cell_type": "markdown",
      "source": [
        "**4 Determine the Most Used Medium of Instruction**"
      ],
      "metadata": {
        "id": "JWyv7lGj4Qg8"
      }
    },
    {
      "cell_type": "code",
      "source": [
        "most_used_medium = d3['school'].value_counts().idxmax()\n",
        "print(\"Most used medium of instruction:\", most_used_medium)"
      ],
      "metadata": {
        "colab": {
          "base_uri": "https://localhost:8080/"
        },
        "id": "M5sYnmfk4WfZ",
        "outputId": "d1691dc0-9b57-4896-9604-c557cb707673"
      },
      "execution_count": null,
      "outputs": [
        {
          "output_type": "stream",
          "name": "stdout",
          "text": [
            "Most used medium of instruction: GP\n"
          ]
        }
      ]
    },
    {
      "cell_type": "markdown",
      "source": [
        "**5 Analyze the Role of Extra-Curricular Activities**"
      ],
      "metadata": {
        "id": "A_JWokiR4bYR"
      }
    },
    {
      "cell_type": "code",
      "source": [
        "activity_impact = d3.groupby('activities_x')['G3_x'].mean()\n",
        "print(\"Impact of extra-curricular activities on performance:\\n\", activity_impact)"
      ],
      "metadata": {
        "colab": {
          "base_uri": "https://localhost:8080/"
        },
        "id": "dOS73PIK4eeP",
        "outputId": "9df01558-17f1-4e30-c5bc-0b0228ec0fa0"
      },
      "execution_count": null,
      "outputs": [
        {
          "output_type": "stream",
          "name": "stdout",
          "text": [
            "Impact of extra-curricular activities on performance:\n",
            " activities_x\n",
            "no     10.182320\n",
            "yes    10.572139\n",
            "Name: G3_x, dtype: float64\n"
          ]
        }
      ]
    },
    {
      "cell_type": "markdown",
      "source": [
        "**Claasification Or Clustering**"
      ],
      "metadata": {
        "id": "LwfiH_xK6xwf"
      }
    },
    {
      "cell_type": "markdown",
      "source": [
        "**6.1 Classification**"
      ],
      "metadata": {
        "id": "BHnQlfbS4ggR"
      }
    },
    {
      "cell_type": "code",
      "source": [
        "from sklearn.model_selection import train_test_split\n",
        "from sklearn.ensemble import RandomForestClassifier\n",
        "from sklearn.metrics import accuracy_score\n",
        "\n",
        "X = d3.drop(['G1_x', 'G2_x', 'G3_x', 'G1_y', 'G2_y', 'G3_y'], axis=1)\n",
        "X = pd.get_dummies(X, drop_first=True)\n",
        "\n",
        "y = d3['G3_x'] >= 10\n",
        "\n",
        "X_train, X_test, y_train, y_test = train_test_split(X, y, test_size=0.3, random_state=42)\n",
        "\n",
        "clf = RandomForestClassifier(random_state=42)\n",
        "clf.fit(X_train, y_train)\n",
        "\n",
        "y_pred = clf.predict(X_test)\n",
        "accuracy = accuracy_score(y_test, y_pred) * 100\n",
        "print(f\"Accuracy of the model: {accuracy:.2f}%\")"
      ],
      "metadata": {
        "colab": {
          "base_uri": "https://localhost:8080/"
        },
        "id": "xHXAHBSu4jTi",
        "outputId": "0b719987-b989-40ed-e888-1394748d71f6"
      },
      "execution_count": null,
      "outputs": [
        {
          "output_type": "stream",
          "name": "stdout",
          "text": [
            "Accuracy of the model: 89.57%\n"
          ]
        }
      ]
    },
    {
      "cell_type": "markdown",
      "source": [
        " **6.2 Clustering**"
      ],
      "metadata": {
        "id": "PlHfLXo04lra"
      }
    },
    {
      "cell_type": "code",
      "source": [
        "from sklearn.cluster import KMeans\n",
        "from sklearn.preprocessing import StandardScaler\n",
        "import matplotlib.pyplot as plt\n",
        "\n",
        "numeric_features = ['age', 'Medu', 'Fedu', 'studytime_x', 'failures_x', 'absences_x', 'G1_x', 'G2_x', 'G3_x']\n",
        "data_for_clustering = d3[numeric_features]\n",
        "\n",
        "data_for_clustering = data_for_clustering.dropna()\n",
        "\n",
        "scaler = StandardScaler()\n",
        "scaled_data = scaler.fit_transform(data_for_clustering)\n",
        "\n",
        "inertia = []\n",
        "cluster_range = range(1, 11)\n",
        "for k in cluster_range:\n",
        "    kmeans = KMeans(n_clusters=k, random_state=42)\n",
        "    kmeans.fit(scaled_data)\n",
        "    inertia.append(kmeans.inertia_)\n",
        "\n",
        "plt.figure(figsize=(8, 5))\n",
        "plt.plot(cluster_range, inertia, marker='o')\n",
        "plt.title('Elbow Method for Optimal Clusters')\n",
        "plt.xlabel('Number of Clusters')\n",
        "plt.ylabel('Inertia')\n",
        "plt.show()\n",
        "\n",
        "optimal_clusters = 3\n",
        "kmeans = KMeans(n_clusters=optimal_clusters, random_state=42)\n",
        "cluster_labels = kmeans.fit_predict(scaled_data)\n",
        "\n",
        "d3['Cluster'] = cluster_labels\n",
        "print(\"Cluster labels assigned:\\n\", d3[['Cluster', 'G3_x']].head())"
      ],
      "metadata": {
        "colab": {
          "base_uri": "https://localhost:8080/",
          "height": 609
        },
        "id": "gWmvJr_W4n-d",
        "outputId": "5fdd02c7-f1fc-45f5-ca09-dc3e54672571"
      },
      "execution_count": null,
      "outputs": [
        {
          "output_type": "display_data",
          "data": {
            "text/plain": [
              "<Figure size 800x500 with 1 Axes>"
            ],
            "image/png": "[encoded data removed]"
          },
          "metadata": {}
        },
        {
          "output_type": "stream",
          "name": "stdout",
          "text": [
            "Cluster labels assigned:\n",
            "    Cluster  G3_x\n",
            "0        0     6\n",
            "1        0     6\n",
            "2        0    10\n",
            "3        1    15\n",
            "4        2    10\n"
          ]
        }
      ]
    }
  ]
}